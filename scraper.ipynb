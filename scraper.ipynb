{
 "cells": [
  {
   "cell_type": "code",
   "execution_count": 1,
   "metadata": {},
   "outputs": [
    {
     "name": "stdout",
     "output_type": "stream",
     "text": [
      "Requirement already satisfied: pip in /home/codespace/.python/current/lib/python3.12/site-packages (24.3.1)\n",
      "Collecting pip\n",
      "  Downloading pip-25.0.1-py3-none-any.whl.metadata (3.7 kB)\n",
      "Downloading pip-25.0.1-py3-none-any.whl (1.8 MB)\n",
      "\u001b[2K   \u001b[90m━━━━━━━━━━━━━━━━━━━━━━━━━━━━━━━━━━━━━━━━\u001b[0m \u001b[32m1.8/1.8 MB\u001b[0m \u001b[31m25.4 MB/s\u001b[0m eta \u001b[36m0:00:00\u001b[0m\n",
      "\u001b[?25hInstalling collected packages: pip\n",
      "  Attempting uninstall: pip\n",
      "    Found existing installation: pip 24.3.1\n",
      "    Uninstalling pip-24.3.1:\n",
      "      Successfully uninstalled pip-24.3.1\n",
      "Successfully installed pip-25.0.1\n"
     ]
    }
   ],
   "source": [
    "!python3 -m pip install --upgrade pip\n"
   ]
  },
  {
   "cell_type": "code",
   "execution_count": 2,
   "metadata": {},
   "outputs": [
    {
     "name": "stdout",
     "output_type": "stream",
     "text": [
      "Collecting xlml\n",
      "  Downloading XLML-0.1.2.tar.gz (2.3 kB)\n",
      "  Installing build dependencies ... \u001b[?25ldone\n",
      "\u001b[?25h  Getting requirements to build wheel ... \u001b[?25ldone\n",
      "\u001b[?25h  Preparing metadata (pyproject.toml) ... \u001b[?25ldone\n",
      "\u001b[?25hBuilding wheels for collected packages: xlml\n",
      "  Building wheel for xlml (pyproject.toml) ... \u001b[?25ldone\n",
      "\u001b[?25h  Created wheel for xlml: filename=xlml-0.1.2-py3-none-any.whl size=2569 sha256=2e31a8ef537ccf758dbfd0bebecaeba93dd7c975a783a49fbe21722b26172ff6\n",
      "  Stored in directory: /home/codespace/.cache/pip/wheels/fb/c3/5f/28a90ce98e7a932dc8ba45c072165bc2f30e7fdc1fa8bffe53\n",
      "Successfully built xlml\n",
      "Installing collected packages: xlml\n",
      "Successfully installed xlml-0.1.2\n"
     ]
    }
   ],
   "source": [
    "!pip install xlml"
   ]
  },
  {
   "cell_type": "code",
   "execution_count": 3,
   "metadata": {},
   "outputs": [
    {
     "name": "stdout",
     "output_type": "stream",
     "text": [
      "Requirement already satisfied: beautifulsoup4 in /home/codespace/.local/lib/python3.12/site-packages (4.12.3)\n",
      "Requirement already satisfied: soupsieve>1.2 in /home/codespace/.local/lib/python3.12/site-packages (from beautifulsoup4) (2.6)\n"
     ]
    }
   ],
   "source": [
    "!pip install beautifulsoup4"
   ]
  },
  {
   "cell_type": "code",
   "execution_count": 4,
   "metadata": {},
   "outputs": [],
   "source": [
    "from bs4 import BeautifulSoup\n",
    "from datetime import datetime\n",
    "import requests\n",
    "import time"
   ]
  },
  {
   "cell_type": "code",
   "execution_count": 5,
   "metadata": {},
   "outputs": [],
   "source": [
    "import pandas as pd\n"
   ]
  },
  {
   "cell_type": "code",
   "execution_count": 7,
   "metadata": {},
   "outputs": [
    {
     "name": "stdout",
     "output_type": "stream",
     "text": [
      "Requirement already satisfied: pandas in /home/codespace/.local/lib/python3.12/site-packages (2.2.3)\n",
      "Collecting openpyxl\n",
      "  Downloading openpyxl-3.1.5-py2.py3-none-any.whl.metadata (2.5 kB)\n",
      "Requirement already satisfied: numpy>=1.26.0 in /home/codespace/.local/lib/python3.12/site-packages (from pandas) (2.2.0)\n",
      "Requirement already satisfied: python-dateutil>=2.8.2 in /home/codespace/.local/lib/python3.12/site-packages (from pandas) (2.9.0.post0)\n",
      "Requirement already satisfied: pytz>=2020.1 in /home/codespace/.local/lib/python3.12/site-packages (from pandas) (2024.2)\n",
      "Requirement already satisfied: tzdata>=2022.7 in /home/codespace/.local/lib/python3.12/site-packages (from pandas) (2024.2)\n",
      "Collecting et-xmlfile (from openpyxl)\n",
      "  Downloading et_xmlfile-2.0.0-py3-none-any.whl.metadata (2.7 kB)\n",
      "Requirement already satisfied: six>=1.5 in /home/codespace/.local/lib/python3.12/site-packages (from python-dateutil>=2.8.2->pandas) (1.17.0)\n",
      "Downloading openpyxl-3.1.5-py2.py3-none-any.whl (250 kB)\n",
      "Downloading et_xmlfile-2.0.0-py3-none-any.whl (18 kB)\n",
      "Installing collected packages: et-xmlfile, openpyxl\n",
      "Successfully installed et-xmlfile-2.0.0 openpyxl-3.1.5\n"
     ]
    }
   ],
   "source": [
    "!pip install pandas openpyxl\n"
   ]
  },
  {
   "cell_type": "code",
   "execution_count": 8,
   "metadata": {},
   "outputs": [
    {
     "data": {
      "text/html": [
       "<div>\n",
       "<style scoped>\n",
       "    .dataframe tbody tr th:only-of-type {\n",
       "        vertical-align: middle;\n",
       "    }\n",
       "\n",
       "    .dataframe tbody tr th {\n",
       "        vertical-align: top;\n",
       "    }\n",
       "\n",
       "    .dataframe thead th {\n",
       "        text-align: right;\n",
       "    }\n",
       "</style>\n",
       "<table border=\"1\" class=\"dataframe\">\n",
       "  <thead>\n",
       "    <tr style=\"text-align: right;\">\n",
       "      <th></th>\n",
       "      <th>ts</th>\n",
       "      <th>uid</th>\n",
       "      <th>id.orig_h</th>\n",
       "      <th>id.orig_p</th>\n",
       "      <th>id.resp_h</th>\n",
       "      <th>id.resp_p</th>\n",
       "      <th>proto</th>\n",
       "      <th>service</th>\n",
       "      <th>duration</th>\n",
       "      <th>orig_bytes</th>\n",
       "      <th>...</th>\n",
       "      <th>local_resp</th>\n",
       "      <th>missed_bytes</th>\n",
       "      <th>history</th>\n",
       "      <th>orig_pkts</th>\n",
       "      <th>orig_ip_bytes</th>\n",
       "      <th>resp_pkts</th>\n",
       "      <th>resp_ip_bytes</th>\n",
       "      <th>tunnel_parents</th>\n",
       "      <th>label</th>\n",
       "      <th>detailed-label</th>\n",
       "    </tr>\n",
       "  </thead>\n",
       "  <tbody>\n",
       "    <tr>\n",
       "      <th>0</th>\n",
       "      <td>1.551378e+09</td>\n",
       "      <td>C9mqzS28ln5Lv41J09</td>\n",
       "      <td>192.168.1.200</td>\n",
       "      <td>52724</td>\n",
       "      <td>167.99.182.238</td>\n",
       "      <td>80</td>\n",
       "      <td>tcp</td>\n",
       "      <td>http</td>\n",
       "      <td>1.978591</td>\n",
       "      <td>149</td>\n",
       "      <td>...</td>\n",
       "      <td>-</td>\n",
       "      <td>0</td>\n",
       "      <td>ShADadttfF</td>\n",
       "      <td>174</td>\n",
       "      <td>11698</td>\n",
       "      <td>172</td>\n",
       "      <td>247844</td>\n",
       "      <td>-</td>\n",
       "      <td>Malicious   C&amp;C</td>\n",
       "      <td>HeartBeat</td>\n",
       "    </tr>\n",
       "    <tr>\n",
       "      <th>1</th>\n",
       "      <td>1.551378e+09</td>\n",
       "      <td>CUQLPn2ZXYFN1lNgo6</td>\n",
       "      <td>192.168.1.200</td>\n",
       "      <td>52726</td>\n",
       "      <td>167.99.182.238</td>\n",
       "      <td>80</td>\n",
       "      <td>tcp</td>\n",
       "      <td>http</td>\n",
       "      <td>2.182247</td>\n",
       "      <td>149</td>\n",
       "      <td>...</td>\n",
       "      <td>-</td>\n",
       "      <td>0</td>\n",
       "      <td>ShADadttfF</td>\n",
       "      <td>172</td>\n",
       "      <td>11570</td>\n",
       "      <td>170</td>\n",
       "      <td>247740</td>\n",
       "      <td>-</td>\n",
       "      <td>Malicious   C&amp;C</td>\n",
       "      <td>HeartBeat</td>\n",
       "    </tr>\n",
       "    <tr>\n",
       "      <th>2</th>\n",
       "      <td>1.551378e+09</td>\n",
       "      <td>CSw2Xf4Q5Yb2mOblGe</td>\n",
       "      <td>192.168.1.200</td>\n",
       "      <td>52728</td>\n",
       "      <td>167.99.182.238</td>\n",
       "      <td>80</td>\n",
       "      <td>tcp</td>\n",
       "      <td>http</td>\n",
       "      <td>1.675550</td>\n",
       "      <td>152</td>\n",
       "      <td>...</td>\n",
       "      <td>-</td>\n",
       "      <td>0</td>\n",
       "      <td>ShADadttfF</td>\n",
       "      <td>124</td>\n",
       "      <td>8120</td>\n",
       "      <td>122</td>\n",
       "      <td>172596</td>\n",
       "      <td>-</td>\n",
       "      <td>Malicious   C&amp;C</td>\n",
       "      <td>HeartBeat</td>\n",
       "    </tr>\n",
       "    <tr>\n",
       "      <th>3</th>\n",
       "      <td>1.551378e+09</td>\n",
       "      <td>CJMu2W757U3nVjHBg</td>\n",
       "      <td>192.168.1.200</td>\n",
       "      <td>52730</td>\n",
       "      <td>167.99.182.238</td>\n",
       "      <td>80</td>\n",
       "      <td>tcp</td>\n",
       "      <td>http</td>\n",
       "      <td>1.798966</td>\n",
       "      <td>149</td>\n",
       "      <td>...</td>\n",
       "      <td>-</td>\n",
       "      <td>0</td>\n",
       "      <td>ShADadttfF</td>\n",
       "      <td>136</td>\n",
       "      <td>8578</td>\n",
       "      <td>134</td>\n",
       "      <td>193266</td>\n",
       "      <td>-</td>\n",
       "      <td>Malicious   C&amp;C</td>\n",
       "      <td>HeartBeat</td>\n",
       "    </tr>\n",
       "    <tr>\n",
       "      <th>4</th>\n",
       "      <td>1.551378e+09</td>\n",
       "      <td>Csezqd4dveYyBuJOza</td>\n",
       "      <td>192.168.1.200</td>\n",
       "      <td>52732</td>\n",
       "      <td>167.99.182.238</td>\n",
       "      <td>80</td>\n",
       "      <td>tcp</td>\n",
       "      <td>http</td>\n",
       "      <td>1.938142</td>\n",
       "      <td>149</td>\n",
       "      <td>...</td>\n",
       "      <td>-</td>\n",
       "      <td>0</td>\n",
       "      <td>ShADadttfF</td>\n",
       "      <td>170</td>\n",
       "      <td>11602</td>\n",
       "      <td>170</td>\n",
       "      <td>244256</td>\n",
       "      <td>-</td>\n",
       "      <td>Malicious   C&amp;C</td>\n",
       "      <td>HeartBeat</td>\n",
       "    </tr>\n",
       "  </tbody>\n",
       "</table>\n",
       "<p>5 rows × 23 columns</p>\n",
       "</div>"
      ],
      "text/plain": [
       "             ts                 uid      id.orig_h  id.orig_p       id.resp_h  \\\n",
       "0  1.551378e+09  C9mqzS28ln5Lv41J09  192.168.1.200      52724  167.99.182.238   \n",
       "1  1.551378e+09  CUQLPn2ZXYFN1lNgo6  192.168.1.200      52726  167.99.182.238   \n",
       "2  1.551378e+09  CSw2Xf4Q5Yb2mOblGe  192.168.1.200      52728  167.99.182.238   \n",
       "3  1.551378e+09   CJMu2W757U3nVjHBg  192.168.1.200      52730  167.99.182.238   \n",
       "4  1.551378e+09  Csezqd4dveYyBuJOza  192.168.1.200      52732  167.99.182.238   \n",
       "\n",
       "   id.resp_p proto service  duration  orig_bytes  ...  local_resp  \\\n",
       "0         80   tcp    http  1.978591         149  ...           -   \n",
       "1         80   tcp    http  2.182247         149  ...           -   \n",
       "2         80   tcp    http  1.675550         152  ...           -   \n",
       "3         80   tcp    http  1.798966         149  ...           -   \n",
       "4         80   tcp    http  1.938142         149  ...           -   \n",
       "\n",
       "  missed_bytes     history orig_pkts  orig_ip_bytes resp_pkts  resp_ip_bytes  \\\n",
       "0            0  ShADadttfF       174          11698       172         247844   \n",
       "1            0  ShADadttfF       172          11570       170         247740   \n",
       "2            0  ShADadttfF       124           8120       122         172596   \n",
       "3            0  ShADadttfF       136           8578       134         193266   \n",
       "4            0  ShADadttfF       170          11602       170         244256   \n",
       "\n",
       "   tunnel_parents            label  detailed-label  \n",
       "0               -  Malicious   C&C       HeartBeat  \n",
       "1               -  Malicious   C&C       HeartBeat  \n",
       "2               -  Malicious   C&C       HeartBeat  \n",
       "3               -  Malicious   C&C       HeartBeat  \n",
       "4               -  Malicious   C&C       HeartBeat  \n",
       "\n",
       "[5 rows x 23 columns]"
      ]
     },
     "execution_count": 8,
     "metadata": {},
     "output_type": "execute_result"
    }
   ],
   "source": [
    "import pandas as pd\n",
    "\n",
    "# Ruta del archivo Excel (ajusta la ruta según tu caso)\n",
    "file_path = \"/workspaces/trabajo_clase_2/archivo_convertido.xlsx\" \n",
    "\n",
    "# Cargar el archivo Excel\n",
    "df = pd.read_excel(file_path)\n",
    "\n",
    "# Mostrar las primeras filas para explorar la estructura del archivo\n",
    "df.head()"
   ]
  },
  {
   "cell_type": "code",
   "execution_count": 9,
   "metadata": {},
   "outputs": [
    {
     "name": "stdout",
     "output_type": "stream",
     "text": [
      "Index(['ts', 'uid', 'id.orig_h', 'id.orig_p', 'id.resp_h', 'id.resp_p',\n",
      "       'proto', 'service', 'duration', 'orig_bytes', 'resp_bytes',\n",
      "       'conn_state', 'local_orig', 'local_resp', 'missed_bytes', 'history',\n",
      "       'orig_pkts', 'orig_ip_bytes', 'resp_pkts', 'resp_ip_bytes',\n",
      "       'tunnel_parents', 'label', 'detailed-label'],\n",
      "      dtype='object')\n"
     ]
    }
   ],
   "source": [
    "print(df.columns)\n"
   ]
  },
  {
   "cell_type": "code",
   "execution_count": 10,
   "metadata": {},
   "outputs": [
    {
     "name": "stdout",
     "output_type": "stream",
     "text": [
      "<class 'pandas.core.frame.DataFrame'>\n",
      "RangeIndex: 1000 entries, 0 to 999\n",
      "Data columns (total 23 columns):\n",
      " #   Column          Non-Null Count  Dtype  \n",
      "---  ------          --------------  -----  \n",
      " 0   ts              1000 non-null   float64\n",
      " 1   uid             1000 non-null   object \n",
      " 2   id.orig_h       1000 non-null   object \n",
      " 3   id.orig_p       1000 non-null   int64  \n",
      " 4   id.resp_h       1000 non-null   object \n",
      " 5   id.resp_p       1000 non-null   int64  \n",
      " 6   proto           1000 non-null   object \n",
      " 7   service         1000 non-null   object \n",
      " 8   duration        1000 non-null   float64\n",
      " 9   orig_bytes      1000 non-null   int64  \n",
      " 10  resp_bytes      1000 non-null   int64  \n",
      " 11  conn_state      1000 non-null   object \n",
      " 12  local_orig      1000 non-null   object \n",
      " 13  local_resp      1000 non-null   object \n",
      " 14  missed_bytes    1000 non-null   int64  \n",
      " 15  history         1000 non-null   object \n",
      " 16  orig_pkts       1000 non-null   int64  \n",
      " 17  orig_ip_bytes   1000 non-null   int64  \n",
      " 18  resp_pkts       1000 non-null   int64  \n",
      " 19  resp_ip_bytes   1000 non-null   int64  \n",
      " 20  tunnel_parents  1000 non-null   object \n",
      " 21  label           1000 non-null   object \n",
      " 22  detailed-label  11 non-null     object \n",
      "dtypes: float64(2), int64(9), object(12)\n",
      "memory usage: 179.8+ KB\n"
     ]
    }
   ],
   "source": [
    "df.info()\n"
   ]
  },
  {
   "cell_type": "code",
   "execution_count": 11,
   "metadata": {},
   "outputs": [
    {
     "data": {
      "text/html": [
       "<div>\n",
       "<style scoped>\n",
       "    .dataframe tbody tr th:only-of-type {\n",
       "        vertical-align: middle;\n",
       "    }\n",
       "\n",
       "    .dataframe tbody tr th {\n",
       "        vertical-align: top;\n",
       "    }\n",
       "\n",
       "    .dataframe thead th {\n",
       "        text-align: right;\n",
       "    }\n",
       "</style>\n",
       "<table border=\"1\" class=\"dataframe\">\n",
       "  <thead>\n",
       "    <tr style=\"text-align: right;\">\n",
       "      <th></th>\n",
       "      <th>ts</th>\n",
       "      <th>proto</th>\n",
       "      <th>orig_bytes</th>\n",
       "      <th>resp_bytes</th>\n",
       "      <th>label</th>\n",
       "    </tr>\n",
       "  </thead>\n",
       "  <tbody>\n",
       "    <tr>\n",
       "      <th>0</th>\n",
       "      <td>1.551378e+09</td>\n",
       "      <td>tcp</td>\n",
       "      <td>149</td>\n",
       "      <td>119442</td>\n",
       "      <td>Malicious   C&amp;C</td>\n",
       "    </tr>\n",
       "    <tr>\n",
       "      <th>1</th>\n",
       "      <td>1.551378e+09</td>\n",
       "      <td>tcp</td>\n",
       "      <td>149</td>\n",
       "      <td>119442</td>\n",
       "      <td>Malicious   C&amp;C</td>\n",
       "    </tr>\n",
       "    <tr>\n",
       "      <th>2</th>\n",
       "      <td>1.551378e+09</td>\n",
       "      <td>tcp</td>\n",
       "      <td>152</td>\n",
       "      <td>83118</td>\n",
       "      <td>Malicious   C&amp;C</td>\n",
       "    </tr>\n",
       "    <tr>\n",
       "      <th>3</th>\n",
       "      <td>1.551378e+09</td>\n",
       "      <td>tcp</td>\n",
       "      <td>149</td>\n",
       "      <td>88797</td>\n",
       "      <td>Malicious   C&amp;C</td>\n",
       "    </tr>\n",
       "    <tr>\n",
       "      <th>4</th>\n",
       "      <td>1.551378e+09</td>\n",
       "      <td>tcp</td>\n",
       "      <td>149</td>\n",
       "      <td>117700</td>\n",
       "      <td>Malicious   C&amp;C</td>\n",
       "    </tr>\n",
       "  </tbody>\n",
       "</table>\n",
       "</div>"
      ],
      "text/plain": [
       "             ts proto  orig_bytes  resp_bytes            label\n",
       "0  1.551378e+09   tcp         149      119442  Malicious   C&C\n",
       "1  1.551378e+09   tcp         149      119442  Malicious   C&C\n",
       "2  1.551378e+09   tcp         152       83118  Malicious   C&C\n",
       "3  1.551378e+09   tcp         149       88797  Malicious   C&C\n",
       "4  1.551378e+09   tcp         149      117700  Malicious   C&C"
      ]
     },
     "execution_count": 11,
     "metadata": {},
     "output_type": "execute_result"
    }
   ],
   "source": [
    "selected_columns = ['ts', 'proto', 'orig_bytes', 'resp_bytes', 'label']\n",
    "df_selected = df[selected_columns]\n",
    "\n",
    "# Mostrar las primeras filas de las columnas seleccionadas\n",
    "df_selected.head()"
   ]
  },
  {
   "cell_type": "code",
   "execution_count": 12,
   "metadata": {},
   "outputs": [
    {
     "name": "stdout",
     "output_type": "stream",
     "text": [
      "               ts proto  orig_bytes  resp_bytes  \\\n",
      "521  1.551378e+09   tcp           0           0   \n",
      "737  1.551378e+09   tcp           0           0   \n",
      "740  1.551378e+09   tcp           0           0   \n",
      "660  1.551378e+09   tcp           0           0   \n",
      "411  1.551378e+09   tcp           0           0   \n",
      "678  1.551378e+09   tcp           0           0   \n",
      "626  1.551378e+09   tcp           0           0   \n",
      "513  1.551378e+09   tcp           0           0   \n",
      "859  1.551378e+09   tcp           0           0   \n",
      "136  1.551378e+09   tcp           0           0   \n",
      "\n",
      "                                     label  \n",
      "521  Malicious   PartOfAHorizontalPortScan  \n",
      "737  Malicious   PartOfAHorizontalPortScan  \n",
      "740  Malicious   PartOfAHorizontalPortScan  \n",
      "660  Malicious   PartOfAHorizontalPortScan  \n",
      "411  Malicious   PartOfAHorizontalPortScan  \n",
      "678  Malicious   PartOfAHorizontalPortScan  \n",
      "626  Malicious   PartOfAHorizontalPortScan  \n",
      "513  Malicious   PartOfAHorizontalPortScan  \n",
      "859  Malicious   PartOfAHorizontalPortScan  \n",
      "136  Malicious   PartOfAHorizontalPortScan  \n"
     ]
    }
   ],
   "source": [
    "df_sample = df_selected.sample(n=10, random_state=42)\n",
    "print(df_sample)"
   ]
  },
  {
   "cell_type": "code",
   "execution_count": 13,
   "metadata": {},
   "outputs": [
    {
     "name": "stdout",
     "output_type": "stream",
     "text": [
      "Valores nulos por columna:\n",
      "ts            0\n",
      "proto         0\n",
      "orig_bytes    0\n",
      "resp_bytes    0\n",
      "label         0\n",
      "dtype: int64\n"
     ]
    }
   ],
   "source": [
    "print(\"Valores nulos por columna:\")\n",
    "print(df_sample.isnull().sum())\n"
   ]
  },
  {
   "cell_type": "code",
   "execution_count": 14,
   "metadata": {},
   "outputs": [],
   "source": [
    "df_sample = df_sample.dropna()\n"
   ]
  },
  {
   "cell_type": "code",
   "execution_count": 15,
   "metadata": {},
   "outputs": [
    {
     "name": "stdout",
     "output_type": "stream",
     "text": [
      "Tipos de datos en las 5 columnas seleccionadas:\n",
      "ts            float64\n",
      "proto          object\n",
      "orig_bytes      int64\n",
      "resp_bytes      int64\n",
      "label          object\n",
      "dtype: object\n"
     ]
    }
   ],
   "source": [
    "print(\"Tipos de datos en las 5 columnas seleccionadas:\")\n",
    "print(df_sample.dtypes)\n"
   ]
  },
  {
   "cell_type": "code",
   "execution_count": 16,
   "metadata": {},
   "outputs": [],
   "source": [
    "df_sample['orig_bytes'] = pd.to_numeric(df_sample['orig_bytes'], errors='coerce')\n",
    "df_sample['resp_bytes'] = pd.to_numeric(df_sample['resp_bytes'], errors='coerce')\n"
   ]
  },
  {
   "cell_type": "code",
   "execution_count": 17,
   "metadata": {},
   "outputs": [],
   "source": [
    "df_sample.to_excel('/workspaces/trabajo_clase_2/datos_limpiado.xlsx', index=False, engine='openpyxl')\n"
   ]
  }
 ],
 "metadata": {
  "kernelspec": {
   "display_name": "Python 3",
   "language": "python",
   "name": "python3"
  },
  "language_info": {
   "codemirror_mode": {
    "name": "ipython",
    "version": 3
   },
   "file_extension": ".py",
   "mimetype": "text/x-python",
   "name": "python",
   "nbconvert_exporter": "python",
   "pygments_lexer": "ipython3",
   "version": "3.12.1"
  }
 },
 "nbformat": 4,
 "nbformat_minor": 2
}
